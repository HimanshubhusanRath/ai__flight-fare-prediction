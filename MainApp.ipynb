{
 "cells": [
  {
   "cell_type": "code",
   "execution_count": 1,
   "id": "0a7d8021",
   "metadata": {},
   "outputs": [],
   "source": [
    "from flask import Flask, render_template, request\n",
    "import jsonify\n",
    "import pandas as pd\n",
    "import pickle\n",
    "import datetime\n",
    "import calendar"
   ]
  },
  {
   "cell_type": "code",
   "execution_count": 2,
   "id": "fa72cd7a",
   "metadata": {},
   "outputs": [],
   "source": [
    "# Load the model\n",
    "model = pickle.load(open('flight-fare-prediction-model.pkl','rb'))\n",
    "\n",
    "# Load the saved data to show on the page\n",
    "airlines = pickle.load(open('saved_data/airlines.pkl','rb'))\n",
    "source_cities = pickle.load(open('saved_data/source_cities.pkl','rb'))\n",
    "destination_cities = pickle.load(open('saved_data/destination_cities.pkl','rb'))\n",
    "\n",
    "data = {}\n",
    "data['airlines'] = airlines\n",
    "data['source_cities'] = source_cities\n",
    "data['destination_cities'] = destination_cities"
   ]
  },
  {
   "cell_type": "code",
   "execution_count": 3,
   "id": "6a1bb572",
   "metadata": {},
   "outputs": [],
   "source": [
    "# Utility methods\n",
    "weekday_map = {'Monday':0,'Tuesday':1,'Wednesday':2,'Thursday':3,'Friday':4,'Saturday':5,'Sunday':6}    \n",
    "    \n",
    "def find_week_day(date):\n",
    "    try:\n",
    "        if ~pd.isnull(date):\n",
    "            # day = datetime.datetime.fromisoformat(date.str).weekday()\n",
    "            day = date.weekday()\n",
    "            return weekday_map.get(calendar.day_name[day])\n",
    "    except Exception as ex:\n",
    "        print(f'Exception in date parsing for value {date}')\n",
    "        print(ex)\n",
    "        return date  "
   ]
  },
  {
   "cell_type": "code",
   "execution_count": null,
   "id": "efec1def",
   "metadata": {},
   "outputs": [],
   "source": []
  },
  {
   "cell_type": "code",
   "execution_count": 4,
   "id": "d30208e0",
   "metadata": {},
   "outputs": [],
   "source": [
    "# Define the main app\n",
    "app = Flask(__name__,template_folder='views')"
   ]
  },
  {
   "cell_type": "code",
   "execution_count": 5,
   "id": "a9f1f120",
   "metadata": {},
   "outputs": [],
   "source": [
    "# Define the end points\n",
    "@app.route('/',methods=['GET'])\n",
    "def home():\n",
    "    return render_template('home.html',data=data)\n",
    "\n",
    "'''\n",
    "INPUT FROM USER\n",
    "\n",
    "'Year','Present_Price', 'Kms_Driven', 'Fuel_Type', 'Seller_Type', 'Transmission_Type', 'Owner'\n",
    "'''\n",
    "\n",
    "'''\n",
    "INPUT FOR MODEL\n",
    "\n",
    "[\n",
    "Total_Stops \n",
    "Airline_Jet Airways\n",
    "Journey_Day \n",
    "Duration\n",
    "Journey_Month \n",
    "Arrival_Hour \n",
    "Dept_Hour \n",
    "weekday\n",
    "Destination_New Delhi\n",
    "Airline_Multiple carriers \n",
    "Airline_IndiGo\n",
    "Airline_Air India \n",
    "Destination_Delhi \n",
    "Destination_Cochin\n",
    "Source_Delhi \n",
    "Source_Mumbai \n",
    "Destination_Hyderabad\n",
    "Airline_Vistara\n",
    "Source_Kolkata \n",
    "Airline_SpiceJet\n",
    "]\n",
    "\n",
    "'''\n",
    "@app.route('/predict',methods=['POST'])\n",
    "def predict():\n",
    "    \n",
    "    # Initialize the variables to 0\n",
    "    Airline_JetAirways = 0\n",
    "    Airline_MultipleCarriers = 0\n",
    "    Airline_IndiGo = 0\n",
    "    Airline_AirIndia  = 0\n",
    "    Airline_Vistara = 0\n",
    "    Airline_SpiceJet = 0\n",
    "    \n",
    "    Journey_Day = 0\n",
    "    Journey_Month = 0\n",
    "    Duration = 0\n",
    "    \n",
    "    Arrival_Hour = 0 \n",
    "    Dept_Hour  = 0\n",
    "\n",
    "    Weekday = 0\n",
    "    \n",
    "    Destination_NewDelhi = 0\n",
    "    Destination_Delhi  = 0\n",
    "    Destination_Cochin = 0\n",
    "    Destination_Hyderabad = 0\n",
    "    \n",
    "    Source_Delhi  = 0\n",
    "    Source_Mumbai  = 0\n",
    "    Source_Kolkata  = 0    \n",
    "    \n",
    "    \n",
    "    form = request.form\n",
    "    \n",
    "    Total_Stops = int(form['Total_Stops'])\n",
    "    \n",
    "    # Set airline\n",
    "    airline = form['Airline']\n",
    "    if airline == 'Jet Airways':\n",
    "        Airline_JetAirways = 1\n",
    "    elif airline == 'Multiple Carriers':\n",
    "        Airline_MultipleCarriers =1\n",
    "    elif airline == 'IndiGo':\n",
    "        Airline_IndiGo = 1\n",
    "    elif airline == 'Air India':\n",
    "        Airline_AirIndia == 1\n",
    "    elif airline == 'Vistara':\n",
    "        Airline_Vistara = 1\n",
    "    elif airline == 'SpiceJet':\n",
    "        Airline_SpiceJet = 1\n",
    "        \n",
    "    \n",
    "    # Set Journey date & hour\n",
    "    Departure_datetime = datetime.datetime.fromisoformat(form['Departure_datetime'])\n",
    "    Arrival_datetime = datetime.datetime.fromisoformat(form['Arrival_datetime'])\n",
    "    Journey_Day = Departure_datetime.day\n",
    "    Journey_Month = Departure_datetime.month\n",
    "    \n",
    "    # Set Arrival_Hour\n",
    "    Arrival_Hour = Arrival_datetime.hour\n",
    "    # Set Dept_Hour\n",
    "    Dept_Hour = Departure_datetime.hour\n",
    "    \n",
    "    # Set Weekday\n",
    "    Weekday = find_week_day(Departure_datetime)\n",
    "    \n",
    "    # Set Destination city\n",
    "    Destination_city = form['Destination_city']\n",
    "    \n",
    "    if Destination_city == 'New Delhi':\n",
    "        Destination_NewDelhi = 1\n",
    "    elif Destination_city == 'Delhi':\n",
    "        Destination_Delhi = 1\n",
    "    elif Destination_city == 'Cochin':\n",
    "        Destination_Cochin = 1\n",
    "    elif Destination_city == 'Hyderabad':\n",
    "        Destination_Hyderabad = 1\n",
    "        \n",
    "    # Set Source city\n",
    "    Source_city = form['Source_city']\n",
    "    \n",
    "    if Source_city == 'Delhi':\n",
    "        Source_Delhi = 1\n",
    "    elif Source_city == 'Kolkata':\n",
    "        Source_Kolkata = 1\n",
    "    elif Source_Mumbai == 'Mumbai':\n",
    "        Source_Mumbai = 1\n",
    "    \n",
    "    \n",
    "    # Set Duration (in hours)\n",
    "    Duration = (Arrival_datetime - Departure_datetime).total_seconds()/3600\n",
    "\n",
    "    print(Duration)\n",
    "    # Predict\n",
    "    air_fare = model.predict([[Total_Stops,Airline_JetAirways,Journey_Day,Duration,Journey_Month,Arrival_Hour ,Dept_Hour , Weekday,Destination_NewDelhi, Airline_MultipleCarriers,Airline_IndiGo, Airline_AirIndia,Destination_Delhi , Destination_Cochin,Source_Delhi , Source_Mumbai ,Destination_Hyderabad, Airline_Vistara,Source_Kolkata ,Airline_SpiceJet]])\n",
    "    print(f'Air fare is predicted as : {air_fare}')\n",
    "    return render_template('home.html',prediction_text=\"Predicted Air Fare : {}\".format(air_fare),data=data)\n",
    "    "
   ]
  },
  {
   "cell_type": "code",
   "execution_count": null,
   "id": "16757475",
   "metadata": {},
   "outputs": [
    {
     "name": "stdout",
     "output_type": "stream",
     "text": [
      " * Serving Flask app \"__main__\" (lazy loading)\n",
      " * Environment: production\n",
      "\u001b[31m   WARNING: This is a development server. Do not use it in a production deployment.\u001b[0m\n",
      "\u001b[2m   Use a production WSGI server instead.\u001b[0m\n",
      " * Debug mode: on\n"
     ]
    },
    {
     "name": "stderr",
     "output_type": "stream",
     "text": [
      " * Running on http://127.0.0.1:5000/ (Press CTRL+C to quit)\n",
      "127.0.0.1 - - [09/Jun/2021 20:57:46] \"\u001b[37mGET / HTTP/1.1\u001b[0m\" 200 -\n",
      "127.0.0.1 - - [09/Jun/2021 20:58:05] \"\u001b[37mPOST /predict HTTP/1.1\u001b[0m\" 200 -\n"
     ]
    },
    {
     "name": "stdout",
     "output_type": "stream",
     "text": [
      "3.0166666666666666\n",
      "Air fare is predicted as : [10891.02]\n"
     ]
    },
    {
     "name": "stderr",
     "output_type": "stream",
     "text": [
      "127.0.0.1 - - [09/Jun/2021 20:58:37] \"\u001b[37mPOST /predict HTTP/1.1\u001b[0m\" 200 -\n"
     ]
    },
    {
     "name": "stdout",
     "output_type": "stream",
     "text": [
      "2.0\n",
      "Air fare is predicted as : [9508.51]\n"
     ]
    },
    {
     "name": "stderr",
     "output_type": "stream",
     "text": [
      "127.0.0.1 - - [09/Jun/2021 20:58:56] \"\u001b[37mPOST /predict HTTP/1.1\u001b[0m\" 200 -\n"
     ]
    },
    {
     "name": "stdout",
     "output_type": "stream",
     "text": [
      "2.0\n",
      "Air fare is predicted as : [6841.39]\n"
     ]
    },
    {
     "name": "stderr",
     "output_type": "stream",
     "text": [
      "127.0.0.1 - - [09/Jun/2021 20:59:27] \"\u001b[37mPOST /predict HTTP/1.1\u001b[0m\" 200 -\n"
     ]
    },
    {
     "name": "stdout",
     "output_type": "stream",
     "text": [
      "2.0\n",
      "Air fare is predicted as : [10996.942]\n"
     ]
    },
    {
     "name": "stderr",
     "output_type": "stream",
     "text": [
      "127.0.0.1 - - [09/Jun/2021 20:59:47] \"\u001b[37mPOST /predict HTTP/1.1\u001b[0m\" 200 -\n"
     ]
    },
    {
     "name": "stdout",
     "output_type": "stream",
     "text": [
      "2.0\n",
      "Air fare is predicted as : [12797.29270238]\n"
     ]
    },
    {
     "name": "stderr",
     "output_type": "stream",
     "text": [
      "127.0.0.1 - - [09/Jun/2021 21:00:16] \"\u001b[31m\u001b[1mGET /predict HTTP/1.1\u001b[0m\" 405 -\n",
      "127.0.0.1 - - [09/Jun/2021 21:00:18] \"\u001b[37mGET / HTTP/1.1\u001b[0m\" 200 -\n",
      "127.0.0.1 - - [09/Jun/2021 21:01:38] \"\u001b[37mGET / HTTP/1.1\u001b[0m\" 200 -\n",
      "127.0.0.1 - - [09/Jun/2021 21:01:54] \"\u001b[37mGET / HTTP/1.1\u001b[0m\" 200 -\n",
      "127.0.0.1 - - [09/Jun/2021 21:02:54] \"\u001b[37mGET / HTTP/1.1\u001b[0m\" 200 -\n",
      "127.0.0.1 - - [09/Jun/2021 21:06:10] \"\u001b[37mGET / HTTP/1.1\u001b[0m\" 200 -\n",
      "127.0.0.1 - - [09/Jun/2021 21:06:13] \"\u001b[37mGET / HTTP/1.1\u001b[0m\" 200 -\n",
      "127.0.0.1 - - [09/Jun/2021 21:06:49] \"\u001b[37mGET / HTTP/1.1\u001b[0m\" 200 -\n",
      "127.0.0.1 - - [09/Jun/2021 21:12:15] \"\u001b[37mGET / HTTP/1.1\u001b[0m\" 200 -\n",
      "127.0.0.1 - - [09/Jun/2021 21:21:43] \"\u001b[37mGET / HTTP/1.1\u001b[0m\" 200 -\n",
      "127.0.0.1 - - [09/Jun/2021 21:23:45] \"\u001b[37mGET / HTTP/1.1\u001b[0m\" 200 -\n",
      "127.0.0.1 - - [09/Jun/2021 21:24:07] \"\u001b[37mGET / HTTP/1.1\u001b[0m\" 200 -\n",
      "127.0.0.1 - - [09/Jun/2021 21:25:13] \"\u001b[37mGET / HTTP/1.1\u001b[0m\" 200 -\n",
      "127.0.0.1 - - [09/Jun/2021 21:25:20] \"\u001b[37mGET / HTTP/1.1\u001b[0m\" 200 -\n",
      "127.0.0.1 - - [09/Jun/2021 21:26:01] \"\u001b[37mGET / HTTP/1.1\u001b[0m\" 200 -\n",
      "127.0.0.1 - - [09/Jun/2021 21:26:14] \"\u001b[37mGET / HTTP/1.1\u001b[0m\" 200 -\n",
      "127.0.0.1 - - [09/Jun/2021 21:26:31] \"\u001b[37mGET / HTTP/1.1\u001b[0m\" 200 -\n",
      "127.0.0.1 - - [09/Jun/2021 21:26:44] \"\u001b[37mGET / HTTP/1.1\u001b[0m\" 200 -\n",
      "127.0.0.1 - - [09/Jun/2021 21:27:20] \"\u001b[37mGET / HTTP/1.1\u001b[0m\" 200 -\n",
      "127.0.0.1 - - [09/Jun/2021 21:27:28] \"\u001b[37mGET / HTTP/1.1\u001b[0m\" 200 -\n",
      "127.0.0.1 - - [09/Jun/2021 21:27:35] \"\u001b[37mGET / HTTP/1.1\u001b[0m\" 200 -\n",
      "127.0.0.1 - - [09/Jun/2021 21:27:48] \"\u001b[37mGET / HTTP/1.1\u001b[0m\" 200 -\n",
      "127.0.0.1 - - [09/Jun/2021 21:28:02] \"\u001b[37mGET / HTTP/1.1\u001b[0m\" 200 -\n",
      "127.0.0.1 - - [09/Jun/2021 21:29:47] \"\u001b[37mGET / HTTP/1.1\u001b[0m\" 200 -\n",
      "127.0.0.1 - - [09/Jun/2021 21:29:49] \"\u001b[37mGET / HTTP/1.1\u001b[0m\" 200 -\n",
      "127.0.0.1 - - [09/Jun/2021 21:31:38] \"\u001b[37mGET / HTTP/1.1\u001b[0m\" 200 -\n",
      "127.0.0.1 - - [09/Jun/2021 21:33:04] \"\u001b[37mGET / HTTP/1.1\u001b[0m\" 200 -\n",
      "127.0.0.1 - - [09/Jun/2021 21:33:23] \"\u001b[37mGET / HTTP/1.1\u001b[0m\" 200 -\n",
      "127.0.0.1 - - [09/Jun/2021 21:33:40] \"\u001b[37mGET / HTTP/1.1\u001b[0m\" 200 -\n",
      "127.0.0.1 - - [09/Jun/2021 21:33:55] \"\u001b[37mGET / HTTP/1.1\u001b[0m\" 200 -\n",
      "127.0.0.1 - - [09/Jun/2021 21:34:13] \"\u001b[37mGET / HTTP/1.1\u001b[0m\" 200 -\n",
      "127.0.0.1 - - [09/Jun/2021 21:34:20] \"\u001b[35m\u001b[1mPOST /predict HTTP/1.1\u001b[0m\" 500 -\n",
      "Traceback (most recent call last):\n",
      "  File \"/opt/anaconda3/envs/machine-learning-env/lib/python3.7/site-packages/flask/app.py\", line 2464, in __call__\n",
      "    return self.wsgi_app(environ, start_response)\n",
      "  File \"/opt/anaconda3/envs/machine-learning-env/lib/python3.7/site-packages/flask/app.py\", line 2450, in wsgi_app\n",
      "    response = self.handle_exception(e)\n",
      "  File \"/opt/anaconda3/envs/machine-learning-env/lib/python3.7/site-packages/flask/app.py\", line 1867, in handle_exception\n",
      "    reraise(exc_type, exc_value, tb)\n",
      "  File \"/opt/anaconda3/envs/machine-learning-env/lib/python3.7/site-packages/flask/_compat.py\", line 39, in reraise\n",
      "    raise value\n",
      "  File \"/opt/anaconda3/envs/machine-learning-env/lib/python3.7/site-packages/flask/app.py\", line 2447, in wsgi_app\n",
      "    response = self.full_dispatch_request()\n",
      "  File \"/opt/anaconda3/envs/machine-learning-env/lib/python3.7/site-packages/flask/app.py\", line 1952, in full_dispatch_request\n",
      "    rv = self.handle_user_exception(e)\n",
      "  File \"/opt/anaconda3/envs/machine-learning-env/lib/python3.7/site-packages/flask/app.py\", line 1821, in handle_user_exception\n",
      "    reraise(exc_type, exc_value, tb)\n",
      "  File \"/opt/anaconda3/envs/machine-learning-env/lib/python3.7/site-packages/flask/_compat.py\", line 39, in reraise\n",
      "    raise value\n",
      "  File \"/opt/anaconda3/envs/machine-learning-env/lib/python3.7/site-packages/flask/app.py\", line 1950, in full_dispatch_request\n",
      "    rv = self.dispatch_request()\n",
      "  File \"/opt/anaconda3/envs/machine-learning-env/lib/python3.7/site-packages/flask/app.py\", line 1936, in dispatch_request\n",
      "    return self.view_functions[rule.endpoint](**req.view_args)\n",
      "  File \"<ipython-input-5-e343281b98eb>\", line 90, in predict\n",
      "    \n",
      "ValueError: Invalid isoformat string: ''\n",
      "127.0.0.1 - - [09/Jun/2021 21:34:20] \"\u001b[37mGET /predict?__debugger__=yes&cmd=resource&f=style.css HTTP/1.1\u001b[0m\" 200 -\n",
      "127.0.0.1 - - [09/Jun/2021 21:34:20] \"\u001b[37mGET /predict?__debugger__=yes&cmd=resource&f=debugger.js HTTP/1.1\u001b[0m\" 200 -\n",
      "127.0.0.1 - - [09/Jun/2021 21:34:20] \"\u001b[37mGET /predict?__debugger__=yes&cmd=resource&f=jquery.js HTTP/1.1\u001b[0m\" 200 -\n",
      "127.0.0.1 - - [09/Jun/2021 21:34:20] \"\u001b[37mGET /predict?__debugger__=yes&cmd=resource&f=ubuntu.ttf HTTP/1.1\u001b[0m\" 200 -\n",
      "127.0.0.1 - - [09/Jun/2021 21:34:20] \"\u001b[37mGET /predict?__debugger__=yes&cmd=resource&f=console.png HTTP/1.1\u001b[0m\" 200 -\n",
      "127.0.0.1 - - [09/Jun/2021 21:34:20] \"\u001b[37mGET /predict?__debugger__=yes&cmd=resource&f=console.png HTTP/1.1\u001b[0m\" 200 -\n",
      "127.0.0.1 - - [09/Jun/2021 21:34:22] \"\u001b[37mGET / HTTP/1.1\u001b[0m\" 200 -\n"
     ]
    }
   ],
   "source": [
    "# Start the App in DEBUG mode.\n",
    "if __name__==\"__main__\":\n",
    "    app.run(debug=True, use_reloader=False)"
   ]
  },
  {
   "cell_type": "code",
   "execution_count": null,
   "id": "1c4686a5",
   "metadata": {},
   "outputs": [],
   "source": []
  },
  {
   "cell_type": "code",
   "execution_count": 27,
   "id": "5839b927",
   "metadata": {},
   "outputs": [],
   "source": []
  },
  {
   "cell_type": "code",
   "execution_count": null,
   "id": "bb35434b",
   "metadata": {},
   "outputs": [],
   "source": []
  },
  {
   "cell_type": "code",
   "execution_count": 19,
   "id": "d65ee8b3",
   "metadata": {},
   "outputs": [],
   "source": [
    "journey_date = '2021-06-09T20:23'\n",
    "Journey_Date = datetime.datetime.fromisoformat('2021-06-09T20:23')\n",
    "Journey_Day = Journey_Date.day\n",
    "Journey_Month = Journey_Date.month"
   ]
  },
  {
   "cell_type": "code",
   "execution_count": 25,
   "id": "77d43ea8",
   "metadata": {},
   "outputs": [
    {
     "data": {
      "text/plain": [
       "2"
      ]
     },
     "execution_count": 25,
     "metadata": {},
     "output_type": "execute_result"
    }
   ],
   "source": [
    "Journey_Date.weekday()"
   ]
  },
  {
   "cell_type": "code",
   "execution_count": 32,
   "id": "c3c630ca",
   "metadata": {},
   "outputs": [
    {
     "data": {
      "text/plain": [
       "2"
      ]
     },
     "execution_count": 32,
     "metadata": {},
     "output_type": "execute_result"
    }
   ],
   "source": [
    "find_week_day('2021-06-09T20:23')"
   ]
  },
  {
   "cell_type": "code",
   "execution_count": 36,
   "id": "9e394282",
   "metadata": {},
   "outputs": [
    {
     "data": {
      "text/plain": [
       "7.0"
      ]
     },
     "execution_count": 36,
     "metadata": {},
     "output_type": "execute_result"
    }
   ],
   "source": [
    "datetime_start = datetime.datetime.fromisoformat('2021-06-09T18:23')\n",
    "datetime_end = datetime.datetime.fromisoformat('2021-06-10T01:23')\n",
    "minutes_diff = (datetime_end - datetime_start).total_seconds()/3600\n",
    "minutes_diff"
   ]
  },
  {
   "cell_type": "code",
   "execution_count": 7,
   "id": "9532a57c",
   "metadata": {},
   "outputs": [
    {
     "ename": "NameError",
     "evalue": "name 'now' is not defined",
     "output_type": "error",
     "traceback": [
      "\u001b[0;31m---------------------------------------------------------------------------\u001b[0m",
      "\u001b[0;31mNameError\u001b[0m                                 Traceback (most recent call last)",
      "\u001b[0;32m<ipython-input-7-64383de646e2>\u001b[0m in \u001b[0;36m<module>\u001b[0;34m\u001b[0m\n\u001b[0;32m----> 1\u001b[0;31m \u001b[0mdate\u001b[0m \u001b[0;34m=\u001b[0m \u001b[0mnow\u001b[0m\u001b[0;34m(\u001b[0m\u001b[0;34m)\u001b[0m\u001b[0;34m\u001b[0m\u001b[0;34m\u001b[0m\u001b[0m\n\u001b[0m",
      "\u001b[0;31mNameError\u001b[0m: name 'now' is not defined"
     ]
    }
   ],
   "source": [
    "date = now()"
   ]
  },
  {
   "cell_type": "code",
   "execution_count": null,
   "id": "5b377d35",
   "metadata": {},
   "outputs": [],
   "source": []
  }
 ],
 "metadata": {
  "kernelspec": {
   "display_name": "Python 3",
   "language": "python",
   "name": "python3"
  },
  "language_info": {
   "codemirror_mode": {
    "name": "ipython",
    "version": 3
   },
   "file_extension": ".py",
   "mimetype": "text/x-python",
   "name": "python",
   "nbconvert_exporter": "python",
   "pygments_lexer": "ipython3",
   "version": "3.7.10"
  }
 },
 "nbformat": 4,
 "nbformat_minor": 5
}
